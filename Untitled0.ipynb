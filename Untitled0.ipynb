{
  "nbformat": 4,
  "nbformat_minor": 0,
  "metadata": {
    "colab": {
      "provenance": [],
      "authorship_tag": "ABX9TyN/tU+j6kgAYXJHFvOmx3PW",
      "include_colab_link": true
    },
    "kernelspec": {
      "name": "python3",
      "display_name": "Python 3"
    },
    "language_info": {
      "name": "python"
    }
  },
  "cells": [
    {
      "cell_type": "markdown",
      "metadata": {
        "id": "view-in-github",
        "colab_type": "text"
      },
      "source": [
        "<a href=\"https://colab.research.google.com/github/M0naAbdallah/assigment1/blob/main/Untitled0.ipynb\" target=\"_parent\"><img src=\"https://colab.research.google.com/assets/colab-badge.svg\" alt=\"Open In Colab\"/></a>"
      ]
    },
    {
      "cell_type": "code",
      "source": [
        "import numpy as np\n",
        "\n",
        "words = ['my', 'name', 'is', 'mona']\n",
        "word_to_ix = {w: i for i, w in enumerate(words)}\n",
        "ix_to_word = {i: w for w, i in word_to_ix.items()}\n",
        "\n",
        "input_seq = ['my', 'name', 'is']\n",
        "target_word = 'mona'\n",
        "input_indices = [word_to_ix[w] for w in input_seq]\n",
        "target_index = word_to_ix[target_word]\n",
        "\n",
        "vocab_size = len(words)\n",
        "embedding_dim = 8\n",
        "hidden_dim = 16\n",
        "lr = 0.01\n",
        "epochs = 100\n",
        "\n",
        "class LSTM:\n",
        "    def __init__(self, input_size, hidden_size):\n",
        "        self.input_size = input_size\n",
        "        self.hidden_size = hidden_size\n",
        "        self.Wf = np.random.randn(hidden_size + input_size, hidden_size) * 0.01\n",
        "        self.Wi = np.random.randn(hidden_size + input_size, hidden_size) * 0.01\n",
        "        self.Wc = np.random.randn(hidden_size + input_size, hidden_size) * 0.01\n",
        "        self.Wo = np.random.randn(hidden_size + input_size, hidden_size) * 0.01\n",
        "        self.bf = np.zeros((1, hidden_size))\n",
        "        self.bi = np.zeros((1, hidden_size))\n",
        "        self.bc = np.zeros((1, hidden_size))\n",
        "        self.bo = np.zeros((1, hidden_size))\n",
        "\n",
        "    def forward(self, x, h_prev, c_prev):\n",
        "        combined = np.concatenate((h_prev, x), axis=1)\n",
        "        f = sigmoid(np.dot(combined, self.Wf) + self.bf)\n",
        "        i = sigmoid(np.dot(combined, self.Wi) + self.bi)\n",
        "        c_bar = np.tanh(np.dot(combined, self.Wc) + self.bc)\n",
        "        o = sigmoid(np.dot(combined, self.Wo) + self.bo)\n",
        "        c = f * c_prev + i * c_bar\n",
        "        h = o * np.tanh(c)\n",
        "        return h, c\n",
        "\n",
        "def sigmoid(x):\n",
        "    return 1 / (1 + np.exp(-x))\n",
        "\n",
        "lstm = LSTM(embedding_dim, hidden_dim)\n",
        "embedding = np.random.randn(vocab_size, embedding_dim)\n",
        "Why = np.random.randn(hidden_dim, vocab_size) * 0.01\n",
        "by = np.zeros((1, vocab_size))\n",
        "\n",
        "def forward(input_indices):\n",
        "    h_prev = np.zeros((1, hidden_dim))\n",
        "    c_prev = np.zeros((1, hidden_dim))\n",
        "    hs = []\n",
        "    for i in input_indices:\n",
        "        x = embedding[i].reshape(1, -1)\n",
        "        h, c = lstm.forward(x, h_prev, c_prev)\n",
        "        hs.append(h)\n",
        "        h_prev = h\n",
        "        c_prev = c\n",
        "    y_raw = np.dot(h, Why) + by\n",
        "    y_pred = np.exp(y_raw) / np.sum(np.exp(y_raw))\n",
        "    return hs, y_pred\n",
        "\n",
        "def backward(hs, y_pred, target_index):\n",
        "    global Why, by, lstm\n",
        "    dy = y_pred.copy()\n",
        "    dy[0, target_index] -= 1\n",
        "    dWhy = np.dot(hs[-1].T, dy)\n",
        "    dby = dy\n",
        "    dh = np.dot(dy, Why.T)\n",
        "    dc = dh * (1 - np.tanh(hs[-1])**2)\n",
        "    for t in reversed(range(len(hs))):\n",
        "        pass\n",
        "    Why -= lr * dWhy\n",
        "    by -= lr * dby\n",
        "    pass\n",
        "\n",
        "for epoch in range(epochs):\n",
        "    hs, y_pred = forward(input_indices)\n",
        "    loss = -np.log(y_pred[0, target_index])\n",
        "    backward(hs, y_pred, target_index)\n",
        "    if (epoch+1) % 10 == 0:\n",
        "        pred_word = ix_to_word[np.argmax(y_pred)]\n",
        "        print(f\"Epoch {epoch+1} | Loss: {loss:.4f} | Prediction: {pred_word}\")\n",
        "\n",
        "final_pred = ix_to_word[np.argmax(y_pred)]\n",
        "print(\"\\n✅ Final Prediction:\", final_pred)"
      ],
      "metadata": {
        "colab": {
          "base_uri": "https://localhost:8080/"
        },
        "id": "vNOCGV-TKovD",
        "outputId": "87e8d485-01ba-4217-b208-591714fcc3f6"
      },
      "execution_count": 3,
      "outputs": [
        {
          "output_type": "stream",
          "name": "stdout",
          "text": [
            "Epoch 10 | Loss: 1.3203 | Prediction: mona\n",
            "Epoch 20 | Loss: 1.2504 | Prediction: mona\n",
            "Epoch 30 | Loss: 1.1842 | Prediction: mona\n",
            "Epoch 40 | Loss: 1.1216 | Prediction: mona\n",
            "Epoch 50 | Loss: 1.0626 | Prediction: mona\n",
            "Epoch 60 | Loss: 1.0070 | Prediction: mona\n",
            "Epoch 70 | Loss: 0.9548 | Prediction: mona\n",
            "Epoch 80 | Loss: 0.9058 | Prediction: mona\n",
            "Epoch 90 | Loss: 0.8599 | Prediction: mona\n",
            "Epoch 100 | Loss: 0.8168 | Prediction: mona\n",
            "\n",
            "✅ Final Prediction: mona\n"
          ]
        }
      ]
    },
    {
      "cell_type": "code",
      "source": [],
      "metadata": {
        "id": "tLB20F5cXJUB"
      },
      "execution_count": null,
      "outputs": []
    },
    {
      "cell_type": "code",
      "source": [],
      "metadata": {
        "id": "PMNpIuCXWMbO"
      },
      "execution_count": null,
      "outputs": []
    }
  ]
}